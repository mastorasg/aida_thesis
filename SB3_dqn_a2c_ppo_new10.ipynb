{
  "cells": [
    {
      "cell_type": "markdown",
      "metadata": {},
      "source": [
        "### Imports"
      ]
    },
    {
      "cell_type": "code",
      "execution_count": null,
      "metadata": {
        "tags": []
      },
      "outputs": [],
      "source": [
        "# !pip install tqdm\n",
        "# !pip install gymnasium\n",
        "# !pip install gym_anytrading\n",
        "# !pip install stable_baselines3\n",
        "\n",
        "\n",
        "\n",
        "from tqdm import tqdm\n",
        "import random\n",
        "import os\n",
        "import pickle\n",
        "\n",
        "import numpy as np\n",
        "import pandas as pd\n",
        "import seaborn as sns\n",
        "import matplotlib.pyplot as plt\n",
        "\n",
        "import gymnasium as gym\n",
        "import gym_anytrading\n",
        "\n",
        "from stable_baselines3 import DQN, A2C, PPO\n",
        "from stable_baselines3.common.callbacks import BaseCallback\n",
        "\n",
        "import torch"
      ]
    },
    {
      "cell_type": "markdown",
      "metadata": {},
      "source": [
        "### Create Env"
      ]
    },
    {
      "cell_type": "code",
      "execution_count": 6,
      "metadata": {},
      "outputs": [],
      "source": [
        "df = gym_anytrading.datasets.STOCKS_GOOGL.copy()\n",
        "trade_fee = 0.05 # <--- + - 0.05\n",
        "window_size = 10\n",
        "start_index = 300\n",
        "# end_index = len(df)\n",
        "end_index = 2000\n",
        "\n",
        "env_name = 'forex-v0' # 'stocks-v0'  # or 'forex-v0'\n",
        "env = gym.make(env_name, df = df, window_size=10, frame_bound=(start_index, end_index))\n",
        "env.trade_fee = trade_fee"
      ]
    },
    {
      "cell_type": "markdown",
      "metadata": {},
      "source": [
        "### Define Functions"
      ]
    },
    {
      "cell_type": "code",
      "execution_count": 7,
      "metadata": {},
      "outputs": [],
      "source": [
        "def print_stats(reward_over_episodes):\n",
        "    \"\"\"  Print Reward  \"\"\"\n",
        "\n",
        "    avg = np.mean(reward_over_episodes)\n",
        "    min = np.min(reward_over_episodes)\n",
        "    max = np.max(reward_over_episodes)\n",
        "\n",
        "    print (f'Min. Reward          : {min:>10.3f}')\n",
        "    print (f'Avg. Reward          : {avg:>10.3f}')\n",
        "    print (f'Max. Reward          : {max:>10.3f}')\n",
        "\n",
        "    return min, avg, max\n",
        "\n",
        "\n",
        "# Integrated Callback for Progress Bar and Saving the model and environment periodically\n",
        "class ProgressAndSaveCallback(BaseCallback):\n",
        "    def __init__(self, check_freq: int, save_freq: int, model_filename: str, env_filename: str, verbose: int = 1):\n",
        "        super().__init__(verbose)\n",
        "        self.check_freq = check_freq\n",
        "        self.save_freq = save_freq\n",
        "        self.model_filename = model_filename\n",
        "        self.env_filename = env_filename\n",
        "        self.progress_bar = None\n",
        "\n",
        "    def _on_training_start(self) -> None:\n",
        "        \"\"\"\n",
        "        This method is called before the first rollout starts.\n",
        "        \"\"\"\n",
        "        self.progress_bar = tqdm(total=self.model._total_timesteps, desc=\"model.learn()\")\n",
        "\n",
        "    def _on_step(self) -> bool:\n",
        "        # Update the progress bar\n",
        "        if self.n_calls % self.check_freq == 0:\n",
        "            self.progress_bar.update(self.check_freq)\n",
        "\n",
        "        # Save the model and environment periodically\n",
        "        if self.n_calls % self.save_freq == 0:\n",
        "            model_filename = self.model_filename + str(self.n_calls) \n",
        "            env_filename = self.env_filename + str(self.n_calls) \n",
        "\n",
        "            self.model.save(model_filename)\n",
        "            with open(env_filename, 'wb') as fi:\n",
        "                pickle.dump(self.model.get_env(), fi)\n",
        "            if self.verbose > 0:\n",
        "                print(f\"\\nSaved model and environment at step {self.num_timesteps}\")\n",
        "\n",
        "        return True\n",
        "    \n",
        "    def _on_training_end(self) -> None:\n",
        "        \"\"\"\n",
        "        This event is triggered before exiting the `learn()` method.\n",
        "        \"\"\"\n",
        "        self.progress_bar.close()\n",
        "\n",
        "\n",
        "# TRAINING + TEST\n",
        "def train_test_model(model, env, seed, total_num_episodes, total_learning_timesteps=10_000):\n",
        "    \"\"\" if model=None then execute 'Random actions' \"\"\"\n",
        "\n",
        "    # reproduce training and test\n",
        "    print('-' * 80)\n",
        "    obs = env.reset(seed=seed)\n",
        "    torch.manual_seed(seed)\n",
        "    random.seed(seed)\n",
        "    np.random.seed(seed)\n",
        "\n",
        "    vec_env = None\n",
        "\n",
        "    if model is not None:\n",
        "        # File paths\n",
        "        realmodel_filename = 'model_' + type(model).__qualname__ + '_' + str(seed) + '_' + str(total_learning_timesteps)\n",
        "        realenv_filename = 'env_' + type(model).__qualname__ + '_' + str(seed) + '_' + str(total_learning_timesteps)\n",
        "\n",
        "        model_filename = 'model_' + type(model).__qualname__ + '_' + str(seed) + '_' \n",
        "        env_filename = 'env_' + type(model).__qualname__ + '_' + str(seed) + '_' \n",
        "\n",
        "        # print(f'model {type(model)}')\n",
        "        # print(f'policy {type(model.policy)}')\n",
        "        # print(f'model.learn(): {total_learning_timesteps} timesteps ...')\n",
        "\n",
        "        # Check if the model file exists\n",
        "        if not os.path.exists(realmodel_filename + '.zip'):\n",
        "            # Train the model if it doesn't exist\n",
        "            print(f\"Training the model as {model_filename}.zip does not exist.\")\n",
        "            # Define the callback with a check frequency of 10,000 steps and save frequency of 50,000 steps\n",
        "            integrated_callback = ProgressAndSaveCallback(\n",
        "                check_freq=10000,  # Update the progress bar every 10,000 steps\n",
        "                save_freq=10000,   # Save the model and environment every 50,000 steps\n",
        "                model_filename=model_filename,\n",
        "                env_filename=env_filename,\n",
        "                verbose=0\n",
        "            )\n",
        "            # Train the model with the callback\n",
        "            model.learn(total_timesteps=total_learning_timesteps, callback=integrated_callback)\n",
        "            print(f'model.learn() done')\n",
        "        else:\n",
        "            # Model file exists\n",
        "            print(f\"Model {realmodel_filename}.zip already exists. Skipping training.\")\n",
        "            # Load the model\n",
        "            model = model.load(realmodel_filename)\n",
        "            # Load the environment using pickle\n",
        "            with open(realenv_filename, 'rb') as fi:\n",
        "                t_vec_env = pickle.load(fi)\n",
        "            # Set the loaded environment to the model\n",
        "            model.set_env(t_vec_env)\n",
        "    \n",
        "        vec_env = model.get_env()\n",
        "        obs = vec_env.reset()\n",
        "    else:\n",
        "        print (\"RANDOM actions\")\n",
        "\n",
        "    reward_over_episodes = []\n",
        "\n",
        "    tbar = tqdm(range(total_num_episodes))\n",
        "\n",
        "    for episode in tbar:\n",
        "        \n",
        "        if vec_env: \n",
        "            obs = vec_env.reset()\n",
        "        else:\n",
        "            obs, info = env.reset()\n",
        "\n",
        "        total_reward = 0\n",
        "        done = False\n",
        "\n",
        "        while not done:\n",
        "            if model is not None:\n",
        "                action, _states = model.predict(obs)\n",
        "                obs, reward, done, info = vec_env.step(action)\n",
        "            else: # random\n",
        "                action = env.action_space.sample()\n",
        "                obs, reward, terminated, truncated, info = env.step(action)\n",
        "                done = terminated or truncated\n",
        "\n",
        "            total_reward += reward\n",
        "            if done:\n",
        "                break\n",
        "\n",
        "        reward_over_episodes.append(total_reward)\n",
        "\n",
        "        if episode % 10 == 0:\n",
        "            avg_reward = np.mean(reward_over_episodes)\n",
        "            tbar.set_description(f'Episode: {episode}, Avg. Reward: {avg_reward:.3f}')\n",
        "            tbar.update()\n",
        "\n",
        "    tbar.close()\n",
        "    avg_reward = np.mean(reward_over_episodes)\n",
        "\n",
        "    return reward_over_episodes"
      ]
    },
    {
      "cell_type": "markdown",
      "metadata": {},
      "source": [
        "### Train + Test Env"
      ]
    },
    {
      "cell_type": "code",
      "execution_count": 8,
      "metadata": {
        "tags": []
      },
      "outputs": [
        {
          "name": "stdout",
          "output_type": "stream",
          "text": [
            "env_name                 : forex-v0\n",
            "seed                     : 42\n",
            "--------------------------------------------------------------------------------\n",
            "Training the model as model_DQN_42_.zip does not exist.\n"
          ]
        },
        {
          "name": "stderr",
          "output_type": "stream",
          "text": [
            "model.learn(): 100%|██████████| 10000/10000 [00:06<00:00, 1610.17it/s]\n"
          ]
        },
        {
          "name": "stdout",
          "output_type": "stream",
          "text": [
            "model.learn() done\n"
          ]
        },
        {
          "name": "stderr",
          "output_type": "stream",
          "text": [
            "Episode: 30, Avg. Reward: -5920501.500: 100%|██████████| 40/40 [00:13<00:00,  2.93it/s]\n"
          ]
        },
        {
          "name": "stdout",
          "output_type": "stream",
          "text": [
            "Min. Reward          : -8296902.000\n",
            "Avg. Reward          : -5965948.000\n",
            "Max. Reward          : -3145276.500\n",
            "--------------------------------------------------------------------------------\n",
            "Training the model as model_DQN_42_.zip does not exist.\n"
          ]
        },
        {
          "name": "stderr",
          "output_type": "stream",
          "text": [
            "model.learn(): 100%|██████████| 20000/20000 [00:12<00:00, 1615.85it/s]\n"
          ]
        },
        {
          "name": "stdout",
          "output_type": "stream",
          "text": [
            "model.learn() done\n"
          ]
        },
        {
          "name": "stderr",
          "output_type": "stream",
          "text": [
            "Episode: 30, Avg. Reward: -5315460.500: 100%|██████████| 40/40 [00:13<00:00,  2.99it/s]\n"
          ]
        },
        {
          "name": "stdout",
          "output_type": "stream",
          "text": [
            "Min. Reward          : -7140440.000\n",
            "Avg. Reward          : -5369251.000\n",
            "Max. Reward          : -4030774.000\n",
            "--------------------------------------------------------------------------------\n",
            "Training the model as model_DQN_42_.zip does not exist.\n"
          ]
        },
        {
          "name": "stderr",
          "output_type": "stream",
          "text": [
            "model.learn(): 100%|██████████| 30000/30000 [00:19<00:00, 1559.17it/s]\n"
          ]
        },
        {
          "name": "stdout",
          "output_type": "stream",
          "text": [
            "model.learn() done\n"
          ]
        },
        {
          "name": "stderr",
          "output_type": "stream",
          "text": [
            "Episode: 30, Avg. Reward: -3476891.000: 100%|██████████| 40/40 [00:14<00:00,  2.85it/s]\n"
          ]
        },
        {
          "name": "stdout",
          "output_type": "stream",
          "text": [
            "Min. Reward          : -5551869.000\n",
            "Avg. Reward          : -3375304.000\n",
            "Max. Reward          : -1344996.000\n",
            "--------------------------------------------------------------------------------\n",
            "Training the model as model_DQN_42_.zip does not exist.\n"
          ]
        },
        {
          "name": "stderr",
          "output_type": "stream",
          "text": [
            "model.learn(): 100%|██████████| 40000/40000 [00:25<00:00, 1599.53it/s]\n"
          ]
        },
        {
          "name": "stdout",
          "output_type": "stream",
          "text": [
            "model.learn() done\n"
          ]
        },
        {
          "name": "stderr",
          "output_type": "stream",
          "text": [
            "Episode: 30, Avg. Reward: -2575313.250: 100%|██████████| 40/40 [00:13<00:00,  3.01it/s]\n"
          ]
        },
        {
          "name": "stdout",
          "output_type": "stream",
          "text": [
            "Min. Reward          : -5007421.500\n",
            "Avg. Reward          : -2515457.500\n",
            "Max. Reward          : 294986.312\n",
            "--------------------------------------------------------------------------------\n",
            "Training the model as model_DQN_42_.zip does not exist.\n"
          ]
        },
        {
          "name": "stderr",
          "output_type": "stream",
          "text": [
            "model.learn(): 100%|██████████| 50000/50000 [00:31<00:00, 1598.56it/s]\n"
          ]
        },
        {
          "name": "stdout",
          "output_type": "stream",
          "text": [
            "model.learn() done\n"
          ]
        },
        {
          "name": "stderr",
          "output_type": "stream",
          "text": [
            "Episode: 30, Avg. Reward: -2294126.000: 100%|██████████| 40/40 [00:18<00:00,  2.21it/s]\n"
          ]
        },
        {
          "name": "stdout",
          "output_type": "stream",
          "text": [
            "Min. Reward          : -4266429.500\n",
            "Avg. Reward          : -2188080.750\n",
            "Max. Reward          : -483174.375\n",
            "--------------------------------------------------------------------------------\n",
            "Training the model as model_A2C_42_.zip does not exist.\n"
          ]
        },
        {
          "name": "stderr",
          "output_type": "stream",
          "text": [
            "model.learn(): 100%|██████████| 10000/10000 [00:10<00:00, 962.93it/s]\n"
          ]
        },
        {
          "name": "stdout",
          "output_type": "stream",
          "text": [
            "model.learn() done\n"
          ]
        },
        {
          "name": "stderr",
          "output_type": "stream",
          "text": [
            "Episode: 30, Avg. Reward: -1787968.500: 100%|██████████| 40/40 [00:29<00:00,  1.37it/s]\n"
          ]
        },
        {
          "name": "stdout",
          "output_type": "stream",
          "text": [
            "Min. Reward          : -6858823.500\n",
            "Avg. Reward          : -1879894.625\n",
            "Max. Reward          :      0.000\n",
            "--------------------------------------------------------------------------------\n",
            "Training the model as model_A2C_42_.zip does not exist.\n"
          ]
        },
        {
          "name": "stderr",
          "output_type": "stream",
          "text": [
            "model.learn(): 100%|██████████| 20000/20000 [00:20<00:00, 979.16it/s]\n"
          ]
        },
        {
          "name": "stdout",
          "output_type": "stream",
          "text": [
            "model.learn() done\n"
          ]
        },
        {
          "name": "stderr",
          "output_type": "stream",
          "text": [
            "Episode: 30, Avg. Reward: -514186.125: 100%|██████████| 40/40 [00:26<00:00,  1.49it/s]\n"
          ]
        },
        {
          "name": "stdout",
          "output_type": "stream",
          "text": [
            "Min. Reward          : -5910023.500\n",
            "Avg. Reward          : -398494.250\n",
            "Max. Reward          :      0.000\n",
            "--------------------------------------------------------------------------------\n",
            "Training the model as model_A2C_42_.zip does not exist.\n"
          ]
        },
        {
          "name": "stderr",
          "output_type": "stream",
          "text": [
            "model.learn(): 100%|██████████| 30000/30000 [00:27<00:00, 1089.57it/s]\n"
          ]
        },
        {
          "name": "stdout",
          "output_type": "stream",
          "text": [
            "model.learn() done\n"
          ]
        },
        {
          "name": "stderr",
          "output_type": "stream",
          "text": [
            "Episode: 30, Avg. Reward: -345949.875: 100%|██████████| 40/40 [00:24<00:00,  1.64it/s]\n"
          ]
        },
        {
          "name": "stdout",
          "output_type": "stream",
          "text": [
            "Min. Reward          : -5382222.500\n",
            "Avg. Reward          : -268111.156\n",
            "Max. Reward          :      0.000\n",
            "--------------------------------------------------------------------------------\n",
            "Training the model as model_A2C_42_.zip does not exist.\n"
          ]
        },
        {
          "name": "stderr",
          "output_type": "stream",
          "text": [
            "model.learn(): 100%|██████████| 40000/40000 [00:37<00:00, 1058.55it/s]\n"
          ]
        },
        {
          "name": "stdout",
          "output_type": "stream",
          "text": [
            "model.learn() done\n"
          ]
        },
        {
          "name": "stderr",
          "output_type": "stream",
          "text": [
            "Episode: 30, Avg. Reward: -58666.723: 100%|██████████| 40/40 [00:23<00:00,  1.69it/s]\n"
          ]
        },
        {
          "name": "stdout",
          "output_type": "stream",
          "text": [
            "Min. Reward          : -669769.875\n",
            "Avg. Reward          : -45466.711\n",
            "Max. Reward          :      0.000\n",
            "--------------------------------------------------------------------------------\n",
            "Training the model as model_A2C_42_.zip does not exist.\n"
          ]
        },
        {
          "name": "stderr",
          "output_type": "stream",
          "text": [
            "model.learn(): 100%|██████████| 50000/50000 [00:44<00:00, 1133.43it/s]\n"
          ]
        },
        {
          "name": "stdout",
          "output_type": "stream",
          "text": [
            "model.learn() done\n"
          ]
        },
        {
          "name": "stderr",
          "output_type": "stream",
          "text": [
            "Episode: 30, Avg. Reward: -5534.560: 100%|██████████| 40/40 [00:23<00:00,  1.69it/s] \n"
          ]
        },
        {
          "name": "stdout",
          "output_type": "stream",
          "text": [
            "Min. Reward          : -171571.359\n",
            "Avg. Reward          :  -4289.284\n",
            "Max. Reward          :      0.000\n",
            "--------------------------------------------------------------------------------\n",
            "Training the model as model_PPO_42_.zip does not exist.\n"
          ]
        },
        {
          "name": "stderr",
          "output_type": "stream",
          "text": [
            "model.learn(): 100%|██████████| 10000/10000 [00:08<00:00, 1230.43it/s]\n"
          ]
        },
        {
          "name": "stdout",
          "output_type": "stream",
          "text": [
            "model.learn() done\n"
          ]
        },
        {
          "name": "stderr",
          "output_type": "stream",
          "text": [
            "Episode: 30, Avg. Reward: -401827.656: 100%|██████████| 40/40 [00:24<00:00,  1.60it/s] \n"
          ]
        },
        {
          "name": "stdout",
          "output_type": "stream",
          "text": [
            "Min. Reward          : -7456056.500\n",
            "Avg. Reward          :  52858.938\n",
            "Max. Reward          : 7792409.500\n",
            "--------------------------------------------------------------------------------\n",
            "Training the model as model_PPO_42_.zip does not exist.\n"
          ]
        },
        {
          "name": "stderr",
          "output_type": "stream",
          "text": [
            "model.learn(): 100%|██████████| 20000/20000 [00:18<00:00, 1070.02it/s]\n"
          ]
        },
        {
          "name": "stdout",
          "output_type": "stream",
          "text": [
            "model.learn() done\n"
          ]
        },
        {
          "name": "stderr",
          "output_type": "stream",
          "text": [
            "Episode: 30, Avg. Reward: 1896403.125: 100%|██████████| 40/40 [00:24<00:00,  1.63it/s]\n"
          ]
        },
        {
          "name": "stdout",
          "output_type": "stream",
          "text": [
            "Min. Reward          : -5348756.000\n",
            "Avg. Reward          : 1733645.250\n",
            "Max. Reward          : 9394906.000\n",
            "--------------------------------------------------------------------------------\n",
            "Training the model as model_PPO_42_.zip does not exist.\n"
          ]
        },
        {
          "name": "stderr",
          "output_type": "stream",
          "text": [
            "model.learn(): 100%|██████████| 30000/30000 [00:23<00:00, 1252.01it/s]\n"
          ]
        },
        {
          "name": "stdout",
          "output_type": "stream",
          "text": [
            "model.learn() done\n"
          ]
        },
        {
          "name": "stderr",
          "output_type": "stream",
          "text": [
            "Episode: 30, Avg. Reward: 1884415.250: 100%|██████████| 40/40 [00:24<00:00,  1.67it/s]\n"
          ]
        },
        {
          "name": "stdout",
          "output_type": "stream",
          "text": [
            "Min. Reward          : -2984364.000\n",
            "Avg. Reward          : 2086054.375\n",
            "Max. Reward          : 6635848.500\n",
            "--------------------------------------------------------------------------------\n",
            "Training the model as model_PPO_42_.zip does not exist.\n"
          ]
        },
        {
          "name": "stderr",
          "output_type": "stream",
          "text": [
            "model.learn(): 100%|██████████| 40000/40000 [00:31<00:00, 1257.58it/s]\n"
          ]
        },
        {
          "name": "stdout",
          "output_type": "stream",
          "text": [
            "model.learn() done\n"
          ]
        },
        {
          "name": "stderr",
          "output_type": "stream",
          "text": [
            "Episode: 30, Avg. Reward: 361999.094: 100%|██████████| 40/40 [00:24<00:00,  1.66it/s]\n"
          ]
        },
        {
          "name": "stdout",
          "output_type": "stream",
          "text": [
            "Min. Reward          : -6916055.000\n",
            "Avg. Reward          : 430259.188\n",
            "Max. Reward          : 6806559.500\n",
            "--------------------------------------------------------------------------------\n",
            "Training the model as model_PPO_42_.zip does not exist.\n"
          ]
        },
        {
          "name": "stderr",
          "output_type": "stream",
          "text": [
            "model.learn(): 100%|██████████| 50000/50000 [00:40<00:00, 1242.45it/s]\n"
          ]
        },
        {
          "name": "stdout",
          "output_type": "stream",
          "text": [
            "model.learn() done\n"
          ]
        },
        {
          "name": "stderr",
          "output_type": "stream",
          "text": [
            "Episode: 30, Avg. Reward: 997205.500: 100%|██████████| 40/40 [00:23<00:00,  1.68it/s] "
          ]
        },
        {
          "name": "stdout",
          "output_type": "stream",
          "text": [
            "Min. Reward          : -5320177.500\n",
            "Avg. Reward          : 1041477.500\n",
            "Max. Reward          : 6099164.500\n"
          ]
        },
        {
          "name": "stderr",
          "output_type": "stream",
          "text": [
            "\n"
          ]
        }
      ],
      "source": [
        "seed = 42  # random seed\n",
        "total_num_episodes = 40\n",
        "\n",
        "print (\"env_name                 :\", env_name)\n",
        "print (\"seed                     :\", seed)\n",
        "\n",
        "# INIT matplotlib\n",
        "plot_settings = {}\n",
        "plot_data = {'x': [i for i in range(1, 4)]} # 3+1\n",
        "\n",
        "learning_timesteps_list_in_K = [10, 20, 30, 40, 50]  # in K\n",
        "\n",
        "# RL Algorithms: https://stable-baselines3.readthedocs.io/en/master/guide/algos.html\n",
        "model_class_list = [DQN, A2C, PPO]\n",
        "\n",
        "\n",
        "for model_class in model_class_list:\n",
        "    policy_dict = model_class.policy_aliases\n",
        "    # https://stable-baselines3.readthedocs.io/en/master/guide/custom_policy.html\n",
        "    # MlpPolicy or MlpLstmPolicy\n",
        "    policy = policy_dict.get('MlpPolicy')\n",
        "    if policy is None:\n",
        "        policy = policy_dict.get('MlpLstmPolicy')\n",
        "\n",
        "    for timesteps in learning_timesteps_list_in_K:\n",
        "        total_learning_timesteps = timesteps * 1000\n",
        "        step_key = f'{timesteps}K'\n",
        "\n",
        "        try:\n",
        "            model = model_class(policy, env, verbose=0)\n",
        "            class_name = type(model).__qualname__\n",
        "            plot_key = f'{class_name}_rewards_'+step_key\n",
        "            rewards = train_test_model(model, env, seed, total_num_episodes, total_learning_timesteps)\n",
        "            min, avg, max, = print_stats(rewards)\n",
        "            label = f'Avg. {avg:>7.2f} : {class_name} - {step_key}'\n",
        "            # plot_data[plot_key] = rewards\n",
        "            plot_data[plot_key] = [min, avg, max]\n",
        "            plot_settings[plot_key] = {'label': label}     \n",
        "                   \n",
        "        except Exception as e:\n",
        "            print(f\"ERROR: {str(e)}\")\n",
        "            continue"
      ]
    },
    {
      "cell_type": "code",
      "execution_count": 9,
      "metadata": {},
      "outputs": [
        {
          "data": {
            "image/png": "[encoded data removed]",
            "text/plain": [
              "<Figure size 1500x600 with 1 Axes>"
            ]
          },
          "metadata": {},
          "output_type": "display_data"
        }
      ],
      "source": [
        "# print(plot_data)\n",
        "# data = pd.DataFrame(plot_data)\n",
        "# print (data)\n",
        "# data.plot(kind=\"line\", figsize=(15, 6))\n",
        "\n",
        "# Assuming plot_data is already populated\n",
        "# Create a new dictionary to store only the average values\n",
        "avg_plot_data = {'x': learning_timesteps_list_in_K}  # Using timesteps as x-axis\n",
        "\n",
        "# Extracting the average values\n",
        "for model_class in model_class_list:\n",
        "    class_name = model_class.__name__\n",
        "    avg_values = []\n",
        "    for timesteps in learning_timesteps_list_in_K:\n",
        "        step_key = f'{timesteps}K'\n",
        "        plot_key = f'{class_name}_rewards_{step_key}'\n",
        "        if plot_key in plot_data:\n",
        "            min_val, avg_val, max_val = plot_data[plot_key]\n",
        "            avg_values.append(avg_val)\n",
        "    \n",
        "    # Store the average values in the new dictionary\n",
        "    avg_plot_data[class_name] = avg_values\n",
        "\n",
        "# Convert to DataFrame\n",
        "avg_data = pd.DataFrame(avg_plot_data)\n",
        "\n",
        "# Set the x-axis as the first column (timesteps)\n",
        "avg_data.set_index('x', inplace=True)\n",
        "\n",
        "# Plot the data\n",
        "avg_data.plot(kind=\"line\", figsize=(15, 6))\n",
        "plt.xlabel('Timesteps (in K)')\n",
        "plt.ylabel('Average Reward')\n",
        "plt.title('Average Rewards for Different RL Algorithms')\n",
        "plt.legend(title='Algorithm')\n",
        "plt.grid(True)\n",
        "plt.show()"
      ]
    },
    {
      "cell_type": "markdown",
      "metadata": {},
      "source": [
        "### Plot Results"
      ]
    },
    {
      "cell_type": "code",
      "execution_count": 10,
      "metadata": {},
      "outputs": [
        {
          "data": {
            "image/png": "[encoded data removed]",
            "text/plain": [
              "<Figure size 1500x600 with 1 Axes>"
            ]
          },
          "metadata": {},
          "output_type": "display_data"
        }
      ],
      "source": [
        "import pandas as pd\n",
        "import matplotlib.pyplot as plt\n",
        "\n",
        "# Assuming plot_data is already populated\n",
        "# Create a new dictionary to store the min, avg, and max values\n",
        "avg_plot_data = {'x': learning_timesteps_list_in_K}  # Using timesteps as x-axis\n",
        "min_plot_data = {'x': learning_timesteps_list_in_K}\n",
        "max_plot_data = {'x': learning_timesteps_list_in_K}\n",
        "\n",
        "# Extracting the min, avg, and max values\n",
        "for model_class in model_class_list:\n",
        "    class_name = model_class.__name__\n",
        "    avg_values = []\n",
        "    min_values = []\n",
        "    max_values = []\n",
        "    for timesteps in learning_timesteps_list_in_K:\n",
        "        step_key = f'{timesteps}K'\n",
        "        plot_key = f'{class_name}_rewards_{step_key}'\n",
        "        if plot_key in plot_data:\n",
        "            min_val, avg_val, max_val = plot_data[plot_key]\n",
        "            min_values.append(min_val)\n",
        "            avg_values.append(avg_val)\n",
        "            max_values.append(max_val)\n",
        "    \n",
        "    # Store the min, avg, and max values in the dictionaries\n",
        "    avg_plot_data[class_name] = avg_values\n",
        "    min_plot_data[class_name] = min_values\n",
        "    max_plot_data[class_name] = max_values\n",
        "\n",
        "# Convert to DataFrame\n",
        "avg_data = pd.DataFrame(avg_plot_data)\n",
        "min_data = pd.DataFrame(min_plot_data)\n",
        "max_data = pd.DataFrame(max_plot_data)\n",
        "\n",
        "# Set the x-axis as the first column (timesteps)\n",
        "avg_data.set_index('x', inplace=True)\n",
        "min_data.set_index('x', inplace=True)\n",
        "max_data.set_index('x', inplace=True)\n",
        "\n",
        "# Plot the data\n",
        "plt.figure(figsize=(15, 6))\n",
        "\n",
        "# Plotting each algorithm line with a belt for min-max range\n",
        "for model_class in model_class_list:\n",
        "    class_name_str = model_class.__name__\n",
        "\n",
        "    # Convert the relevant data to numpy arrays\n",
        "    x_vals = avg_data.index.values\n",
        "    avg_vals = avg_data[class_name_str].values\n",
        "    min_vals = min_data[class_name_str].values\n",
        "    max_vals = max_data[class_name_str].values\n",
        "\n",
        "    plt.plot(x_vals, avg_vals, label=f'{class_name_str} Avg', linewidth=2)\n",
        "\n",
        "    # Fill between the min and max values for the belt effect\n",
        "    plt.fill_between(\n",
        "        x_vals,\n",
        "        min_vals,\n",
        "        max_vals,\n",
        "        alpha=0.2  # Adjust the alpha for transparency\n",
        "    )\n",
        "\n",
        "plt.xlabel('Timesteps (in K)')\n",
        "plt.ylabel('Reward')\n",
        "plt.title('Average Rewards with Min-Max Belt for Different RL Algorithms')\n",
        "plt.legend(title='Algorithm')\n",
        "plt.grid(True)\n",
        "plt.show()"
      ]
    }
  ],
  "metadata": {
    "accelerator": "GPU",
    "colab": {
      "collapsed_sections": [],
      "name": "p3.ipynb",
      "provenance": []
    },
    "kernelspec": {
      "display_name": "Python 3",
      "name": "python3"
    },
    "language_info": {
      "codemirror_mode": {
        "name": "ipython",
        "version": 3
      },
      "file_extension": ".py",
      "mimetype": "text/x-python",
      "name": "python",
      "nbconvert_exporter": "python",
      "pygments_lexer": "ipython3",
      "version": "3.12.1"
    }
  },
  "nbformat": 4,
  "nbformat_minor": 0
}
